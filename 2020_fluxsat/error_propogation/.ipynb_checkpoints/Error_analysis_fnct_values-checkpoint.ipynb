{
 "cells": [
  {
   "cell_type": "markdown",
   "metadata": {},
   "source": [
    "# Error analysis\n",
    "\n",
    "- first group of code is just for one variable, here I do wind as an example\n",
    "- second group of codes is 2D\n",
    "\n",
    "#  Observational error for either FluxSat or Current variables\n",
    "- errors from FluxSat via Shannon's simulations\n",
    "- errors from current variables from publications cited in paper\n"
   ]
  },
  {
   "cell_type": "code",
   "execution_count": 53,
   "metadata": {
    "scrolled": true
   },
   "outputs": [],
   "source": [
    "import numpy as np\n",
    "#%matplotlib inline\n",
    "import matplotlib.pyplot as plt\n",
    "import numpy as np\n",
    "import numpy.ma as ma\n",
    "import sys\n",
    "import xarray as xr\n",
    "sys.path.append('./cerform/')\n",
    "from coare3 import coare3\n",
    "from air_specific_humidity import air_humidity_method_qsat26air\n",
    "from surface_specific_humidity import sea_humidity_method_qsee"
   ]
  },
  {
   "cell_type": "markdown",
   "metadata": {},
   "source": [
    "# chose observational error here"
   ]
  },
  {
   "cell_type": "code",
   "execution_count": 54,
   "metadata": {},
   "outputs": [],
   "source": [
    "#pick one and comment out the other with #\n",
    "ob_err = 'fluxsat'\n",
    "#ob_err = 'current'\n",
    "\n",
    "Cp = 1004.67         #J/K/kg specific heat at constant pressure\n",
    "Rgas = 287.1\n",
    "\n",
    "#wind = 7.00000          #m/s    average wind speed over ocean\n",
    "Tsea = 289.25         #K      average SST over ocean\n",
    "Tair = Tsea-1.3        #K      average surface air temperature over ocean\n",
    "Tsea_degC = Tsea - 273.15\n",
    "Tair_degC = Tair - 273.15\n",
    "rel_hum = 0.80000       #N/A    near surface relative humidity\n",
    "pres = 1013.00000       #mb     average surface pressure used in Bentamy\n",
    "\n",
    "#calculate Qsea and Qair from Tsea, pres, Tair, rel_hum from coare\n",
    "Lv = (2.501-0.00237*Tsea)*1e6 #J/kg   latent heat of vaporization  SB had 2500000 CG changed to coare3 def\n",
    "sat_vap_pres =  6.1121*np.exp(17.502*Tair_degC/(Tair_degC+240.97))*(1.0007+3.46e-6*pres) #from coare3\n",
    "Qsea = sea_humidity_method_qsee(Tsea_degC,pres)/1000\n",
    "Qair = air_humidity_method_qsat26air(Tair_degC,pres,rel_hum*100)/1000\n",
    "air_density = pres*100./(Rgas*(Tair)*(1.+0.61*Qair))\n",
    "\n",
    "if ob_err == 'fluxsat':\n",
    "    dTsea = 0.45  #check with shannon for more recent estimates for these values\n",
    "    dwind = 0.6\n",
    "    dTair = 0.7\n",
    "    dQair = .95\n",
    "    dQair_computed = Qair * 0.07 #percent from shannon\n",
    "    dpres = 5\n",
    "if ob_err == 'current':\n",
    "    dTsea = 0.5 #ref found\n",
    "    dwind = 0.8 #ref found\n",
    "    dTair = 1.42\n",
    "    dQair = 1.25\n",
    "    dQair_computed = 1.25/1000.\n",
    "    dpres = 5\n",
    "\n",
    "    "
   ]
  },
  {
   "cell_type": "markdown",
   "metadata": {},
   "source": [
    "# 1D errors"
   ]
  },
  {
   "cell_type": "code",
   "execution_count": 55,
   "metadata": {},
   "outputs": [],
   "source": [
    "data = np.zeros(30)*np.nan\n",
    "tem =xr.DataArray(data,dims=('wind'),coords={'wind':np.arange(0,30)})\n",
    "save_errors = xr.Dataset({'lhf_rand':tem,'shf_rand':tem, 'lhf_perror':tem,'shf_perror':tem})\n",
    "ss,sl,xx=[],[],[]\n",
    "\n",
    "for wind in range(0,30):\n",
    "    xx.append(wind)\n",
    "    #variable\tvalue\tunits\tnotes\n",
    "\n",
    "    dpres_computed = (pres+dpres)*100 / (287*Tair) - air_density\n",
    "    #print('Qair error:', dQair_computed*1000)\n",
    "\n",
    "    #compute Qsea errors from coare3 using uncertainty in SST & pres\n",
    "    Qsea0 = sea_humidity_method_qsee(Tsea_degC,pres)\n",
    "    Qsea1 = sea_humidity_method_qsee(Tsea_degC+dTsea,pres)\n",
    "    Qsea2 = sea_humidity_method_qsee(Tsea_degC-dTsea,pres)\n",
    "    Qsea_dTsea = (np.maximum(np.abs(Qsea0-Qsea2),np.abs(Qsea0-Qsea1)))\n",
    "    Qsea0 = sea_humidity_method_qsee(Tsea_degC,pres)\n",
    "    Qsea1 = sea_humidity_method_qsee(Tsea_degC,pres+dpres)\n",
    "    Qsea2 = sea_humidity_method_qsee(Tsea_degC,pres-dpres)\n",
    "    Qsea_dpres = (np.maximum(np.abs(Qsea0-Qsea2),np.abs(Qsea0-Qsea1)))\n",
    "    dQsea_computed = np.sqrt(Qsea_dTsea**2+Qsea_dpres**2)/1000\n",
    "    #print('Qsea and Qsea uncertainty:',Qsea*1000,dQsea_computed*1000)\n",
    "    \n",
    "    \n",
    "    # calculate Ch and Ce using coare\n",
    "    inputs = {'u':wind,'t':Tair_degC,'Q':Qair*1000,'Qs':Qsea*1000,'P':pres,'ts':Tsea_degC,'lat':35.}\n",
    "    res = coare3(inputs)\n",
    "    Ch = res['Ch']\n",
    "    Ce = res['Ce']\n",
    "    #print(Ch,Ce)\n",
    "    dLH_over_dqs =   air_density * Ce * wind * Lv               * dQsea_computed\n",
    "    dLH_over_dqair = air_density * Ce * wind * Lv               * dQair_computed\n",
    "    dLH_over_dwind = air_density * Ce *        Lv * (Qsea-Qair) * dwind\n",
    "    dLH_over_dpres =               Ce * wind * Lv * (Qsea-Qair) * dpres_computed\n",
    "\n",
    "    total_error = np.sqrt(dLH_over_dqs**2+\n",
    "                          dLH_over_dqair**2+\n",
    "                          dLH_over_dwind**2+\n",
    "                          dLH_over_dpres**2)\n",
    "\n",
    "    signal = air_density * Lv * Ce * (Qsea-Qair) * wind\n",
    "\n",
    "    percent_error = total_error / signal *100\n",
    "\n",
    "    # print('dLH_over_dqs',dLH_over_dqs)\n",
    "    # print('dLH_over_dqair',dLH_over_dqair)\n",
    "    # print('dLH_over_dwind',dLH_over_dwind)\n",
    "    # print('dLH_over_dpres',dLH_over_dpres)\n",
    "    #print('Latent Heat Flux total_error',total_error)\n",
    "    #print('signal',signal)\n",
    "    #print('percent error',percent_error)\n",
    "\n",
    "    latent_heat_flux_total_error = total_error\n",
    "    \n",
    "    dSH_over_dTsea = air_density * Cp * Ch * wind               * dTsea\n",
    "    dSH_over_dTair = air_density * Cp * Ch * wind               * dTair\n",
    "    dSH_over_dwind = air_density * Cp * Ch        * (Tsea-Tair) * dwind\n",
    "    dSH_over_dpres =               Cp * Ch * wind * (Tsea-Tair) * dpres_computed\n",
    "\n",
    "    total_error = np.sqrt(dSH_over_dTsea**2+\n",
    "                          dSH_over_dTair**2+\n",
    "                          dSH_over_dwind**2+\n",
    "                          dSH_over_dpres**2)\n",
    "\n",
    "    signal = air_density * Cp * Ch * (Tsea-Tair) * wind\n",
    "\n",
    "    percent_error = total_error / signal *100\n",
    "\n",
    "    #print('dSH_over_dTsea',dSH_over_dTsea)\n",
    "    #print('dSH_over_dTair',dSH_over_dTair)\n",
    "    #print('dSH_over_dwind',dSH_over_dwind)\n",
    "    #print('dSH_over_dpres',dSH_over_dpres)\n",
    "    #print('Sensible Heat Flux total_error',total_error)\n",
    "    #print('signal',signal)\n",
    "    #print('percent error',percent_error)\n",
    "\n",
    "    sensible_heat_flux_total_error = total_error\n",
    "    \n",
    "    ss.append(sensible_heat_flux_total_error.data[0])\n",
    "    sl.append(latent_heat_flux_total_error.data[0])\n",
    "\n",
    "save_errors['lhf_rand']=xr.DataArray(sl,dims=('wind'),coords={'wind':xx})\n",
    "save_errors['shf_rand']=xr.DataArray(ss,dims=('wind'),coords={'wind':xx})"
   ]
  },
  {
   "cell_type": "markdown",
   "metadata": {},
   "source": [
    "# plot errors"
   ]
  },
  {
   "cell_type": "code",
   "execution_count": 56,
   "metadata": {},
   "outputs": [
    {
     "data": {
      "text/plain": [
       "[<matplotlib.lines.Line2D at 0x1c8835d2e20>]"
      ]
     },
     "execution_count": 56,
     "metadata": {},
     "output_type": "execute_result"
    },
    {
     "data": {
      "image/png": "[encoded data removed]",
      "text/plain": [
       "<Figure size 432x288 with 1 Axes>"
      ]
     },
     "metadata": {
      "needs_background": "light"
     },
     "output_type": "display_data"
    }
   ],
   "source": [
    "save_errors.lhf_rand.plot()\n",
    "save_errors.shf_rand.plot()"
   ]
  },
  {
   "cell_type": "markdown",
   "metadata": {},
   "source": [
    "# 2D delta Tair and wind"
   ]
  },
  {
   "cell_type": "code",
   "execution_count": 57,
   "metadata": {},
   "outputs": [],
   "source": [
    "Tdiff_low = 5.0\n",
    "Tdiff_high = 15.0\n",
    "Tdiff_step = 0.5\n",
    "\n",
    "wind_low = 15\n",
    "wind_high = 30\n",
    "wind_step = 1\n",
    "\n",
    "num_Tdiff = int((Tdiff_high - Tdiff_low) // Tdiff_step)\n",
    "num_wind = int((wind_high - wind_low) // wind_step)\n",
    "\n",
    "ss2,sl2,ps2, pl2, tt = np.zeros((num_Tdiff,num_wind))*np.nan,np.zeros((num_Tdiff,num_wind))*np.nan,np.zeros((num_Tdiff,num_wind))*np.nan,np.zeros((num_Tdiff,num_wind))*np.nan,[]\n",
    "for iair,Tair_offset in enumerate(np.arange(Tdiff_low,Tdiff_high,Tdiff_step)):\n",
    "    tt.append(Tair_offset)\n",
    "    ss,sl,xx,ps,pl=[],[],[],[],[]\n",
    "    for wind in range(wind_low, wind_high, wind_step):\n",
    "        xx.append(wind)\n",
    "        #variable\tvalue\tunits\tnotes\n",
    "\n",
    "        #wind = 7.00000          #m/s    average wind speed over ocean\n",
    "        Tair = Tsea-Tair_offset        #K      average surface air temperature over ocean\n",
    "        Tsea_degC = Tsea - 273.15\n",
    "        Tair_degC = Tair - 273.15\n",
    "\n",
    "        #calculate Qsea and Qair from Tsea, pres, Tair, rel_hum from coare\n",
    "        Lv = (2.501-0.00237*Tsea)*1e6 #J/kg   latent heat of vaporization  SB had 2500000 CG changed to coare3 def\n",
    "        sat_vap_pres =  6.1121*np.exp(17.502*Tair_degC/(Tair_degC+240.97))*(1.0007+3.46e-6*pres) #from coare3\n",
    "        Qsea = sea_humidity_method_qsee(Tsea_degC,pres)/1000\n",
    "        Qair = air_humidity_method_qsat26air(Tair_degC,pres,rel_hum*100)/1000\n",
    "        air_density = pres*100./(Rgas*(Tair)*(1.+0.61*Qair))\n",
    "\n",
    "        dpres_computed = (pres+dpres)*100 / (287*Tair) - air_density\n",
    "        #print('Qair error:', dQair_computed*1000)\n",
    "\n",
    "        #compute Qsea errors from coare3 using uncertainty in SST & pres\n",
    "        Qsea0 = sea_humidity_method_qsee(Tsea_degC,pres)\n",
    "        Qsea1 = sea_humidity_method_qsee(Tsea_degC+dTsea,pres)\n",
    "        Qsea2 = sea_humidity_method_qsee(Tsea_degC-dTsea,pres)\n",
    "        Qsea_dTsea = (np.maximum(np.abs(Qsea0-Qsea2),np.abs(Qsea0-Qsea1)))\n",
    "        Qsea0 = sea_humidity_method_qsee(Tsea_degC,pres)\n",
    "        Qsea1 = sea_humidity_method_qsee(Tsea_degC,pres+dpres)\n",
    "        Qsea2 = sea_humidity_method_qsee(Tsea_degC,pres-dpres)\n",
    "        Qsea_dpres = (np.maximum(np.abs(Qsea0-Qsea2),np.abs(Qsea0-Qsea1)))\n",
    "        dQsea_computed = np.sqrt(Qsea_dTsea**2+Qsea_dpres**2)/1000\n",
    "        #print('Qsea and Qsea uncertainty:',Qsea*1000,dQsea_computed*1000)\n",
    "\n",
    "        # calculate Ch and Ce using coare\n",
    "        inputs = {'u':wind,'t':Tair_degC,'Q':Qair*1000,'Qs':Qsea*1000,'P':pres,'ts':Tsea_degC,'lat':35.}\n",
    "        res = coare3(inputs)\n",
    "        Ch = res['Ch']\n",
    "        Ce = res['Ce']\n",
    "        #print(Ch,Ce)\n",
    "        dLH_over_dqs =   air_density * Ce * wind * Lv               * dQsea_computed\n",
    "        dLH_over_dqair = air_density * Ce * wind * Lv               * dQair_computed\n",
    "        dLH_over_dwind = air_density * Ce *        Lv * (Qsea-Qair) * dwind\n",
    "        dLH_over_dpres =               Ce * wind * Lv * (Qsea-Qair) * dpres_computed\n",
    "\n",
    "        # modified to be the total error per g/kg air/sea moisture difference\n",
    "        total_error = np.sqrt(dLH_over_dqs**2+\n",
    "                              dLH_over_dqair**2+\n",
    "                              dLH_over_dwind**2+\n",
    "                              dLH_over_dpres**2) \n",
    "        \n",
    "        signal = air_density * Lv * Ce * (Qsea-Qair) * wind \n",
    "\n",
    "        percent_error_lhf = abs( total_error / signal *100 )\n",
    "\n",
    "        # print('dLH_over_dqs',dLH_over_dqs)\n",
    "        # print('dLH_over_dqair',dLH_over_dqair)\n",
    "        # print('dLH_over_dwind',dLH_over_dwind)\n",
    "        # print('dLH_over_dpres',dLH_over_dpres)\n",
    "        #print('Latent Heat Flux total_error',total_error)\n",
    "        #print('signal',signal)\n",
    "        #print('percent error',percent_error)\n",
    "\n",
    "        # modified to be the total error per g/kg air/sea moisture difference\n",
    "        latent_heat_flux_total_error = total_error \n",
    "\n",
    "        dSH_over_dTsea = air_density * Cp * Ch * wind               * dTsea\n",
    "        dSH_over_dTair = air_density * Cp * Ch * wind               * dTair\n",
    "        dSH_over_dwind = air_density * Cp * Ch        * (Tsea-Tair) * dwind\n",
    "        dSH_over_dpres =               Cp * Ch * wind * (Tsea-Tair) * dpres_computed\n",
    "        \n",
    "        total_error = np.sqrt(dSH_over_dTsea**2+\n",
    "                              dSH_over_dTair**2+\n",
    "                              dSH_over_dwind**2+\n",
    "                              dSH_over_dpres**2)\n",
    "\n",
    "        signal = air_density * Cp * Ch * (Tsea-Tair) * wind\n",
    "\n",
    "        percent_error_shf = abs( total_error / signal *100 )\n",
    "\n",
    "        #print('dSH_over_dTsea',dSH_over_dTsea)\n",
    "        #print('dSH_over_dTair',dSH_over_dTair)\n",
    "        #print('dSH_over_dwind',dSH_over_dwind)\n",
    "        #print('dSH_over_dpres',dSH_over_dpres)Fss\n",
    "        #print('Sensible Heat Flux total_error',total_error)\n",
    "        #print('signal',signal)\n",
    "        #print('percent error',percent_error)\n",
    "\n",
    "        sensible_heat_flux_total_error = total_error\n",
    "\n",
    "        ss.append(sensible_heat_flux_total_error.data[0])\n",
    "        sl.append(latent_heat_flux_total_error.data[0])\n",
    "        ps.append(percent_error_shf.data[0])\n",
    "        pl.append(percent_error_lhf.data[0])\n",
    "\n",
    "    ss2[iair,:]=ss\n",
    "    sl2[iair,:]=sl\n",
    "    ps2[iair,:]=ps\n",
    "    pl2[iair,:]=pl\n",
    "\n",
    "save_errors['shf_rand']=xr.DataArray(ss2,dims=('deltaT','wind'),coords={'deltaT':tt,'wind':xx})\n",
    "save_errors['lhf_rand']=xr.DataArray(sl2,dims=('deltaT','wind'),coords={'deltaT':tt,'wind':xx})\n",
    "save_errors['shf_perror']=xr.DataArray(ss2,dims=('deltaT','wind'),coords={'deltaT':tt,'wind':xx})\n",
    "save_errors['lhf_perror']=xr.DataArray(sl2,dims=('deltaT','wind'),coords={'deltaT':tt,'wind':xx})"
   ]
  },
  {
   "cell_type": "code",
   "execution_count": 58,
   "metadata": {
    "scrolled": true
   },
   "outputs": [
    {
     "name": "stderr",
     "output_type": "stream",
     "text": [
      "<ipython-input-58-08cf45f4f078>:11: MatplotlibDeprecationWarning: shading='flat' when X and Y have the same dimensions as C is deprecated since 3.3.  Either specify the corners of the quadrilaterals with X and Y, or pass shading='auto', 'nearest' or 'gouraud', or set rcParams['pcolor.shading'].  This will become an error two minor releases later.\n",
      "  plt.pcolormesh(xx, tt, ps2)\n",
      "<ipython-input-58-08cf45f4f078>:18: UserWarning: The following kwargs were not used by contour: 'shading'\n",
      "  plt.contourf(xx,tt, ps2, p_levels, shading='auto' )\n"
     ]
    },
    {
     "data": {
      "image/png": "[encoded data removed]",
      "text/plain": [
       "<Figure size 576x432 with 2 Axes>"
      ]
     },
     "metadata": {
      "needs_background": "light"
     },
     "output_type": "display_data"
    }
   ],
   "source": [
    "\n",
    "fig = plt.figure(num=None, figsize=(8,6))\n",
    "left, bottom, width, height = 0.1, 0.1, 0.8, 0.8\n",
    "ax = fig.add_axes([left, bottom, width, height]) \n",
    "ax.set_ylabel(\"Air/Sea Temperature Difference (C)\")\n",
    "ax.set_xlabel(\"Wind Speed (m/s)\")\n",
    "\n",
    "#x,y = np.meshgrid(np.arange(31), np.arange(51))\n",
    "r_levels = [0, 5, 10, 15, 20, 30, 40, 50, 75, 100, 150]\n",
    "p_levels = [0, 5, 10, 15, 20, 30, 40, 50, 75, 100, 150]\n",
    "\n",
    "plt.pcolormesh(xx, tt, ps2)\n",
    "cbar = plt.colorbar()\n",
    "plt.set_cmap('bwr') \n",
    "cbar.set_label('Percent Uncertainty in SHF (W/m^2)', labelpad = 2.5)\n",
    "\n",
    "\n",
    "# range of xx should be 0:11 and range of tt should be 20:40\n",
    "plt.contourf(xx,tt, ps2, p_levels, shading='auto' )\n",
    "plt.show()\n",
    "plt.savefig('SHF Percentage Uncertainty high wind.png')\n",
    "plt.close()"
   ]
  },
  {
   "cell_type": "code",
   "execution_count": 59,
   "metadata": {},
   "outputs": [
    {
     "name": "stderr",
     "output_type": "stream",
     "text": [
      "<ipython-input-59-fc615726ee72>:11: MatplotlibDeprecationWarning: shading='flat' when X and Y have the same dimensions as C is deprecated since 3.3.  Either specify the corners of the quadrilaterals with X and Y, or pass shading='auto', 'nearest' or 'gouraud', or set rcParams['pcolor.shading'].  This will become an error two minor releases later.\n",
      "  plt.pcolormesh(xx, tt, pl2)\n",
      "<ipython-input-59-fc615726ee72>:18: UserWarning: The following kwargs were not used by contour: 'shading'\n",
      "  plt.contourf(xx,tt, pl2, p_levels, shading='auto' )\n"
     ]
    },
    {
     "data": {
      "image/png": "[encoded data removed]",
      "text/plain": [
       "<Figure size 576x432 with 2 Axes>"
      ]
     },
     "metadata": {
      "needs_background": "light"
     },
     "output_type": "display_data"
    },
    {
     "data": {
      "text/plain": [
       "<Figure size 432x288 with 0 Axes>"
      ]
     },
     "metadata": {},
     "output_type": "display_data"
    }
   ],
   "source": [
    "fig = plt.figure(num=None, figsize=(8,6))\n",
    "left, bottom, width, height = 0.1, 0.1, 0.8, 0.8\n",
    "ax = fig.add_axes([left, bottom, width, height]) \n",
    "ax.set_ylabel(\"Air/Sea Temperature Difference (C)\")\n",
    "ax.set_xlabel(\"Wind Speed (m/s)\")\n",
    "\n",
    "#x,y = np.meshgrid(np.arange(31), np.arange(51))\n",
    "r_levels = [0, 5, 10, 15, 20, 30, 40, 50, 75, 100, 150]\n",
    "p_levels = [0, 5, 10, 15, 20, 30, 40, 50, 75, 100, 150]\n",
    "\n",
    "plt.pcolormesh(xx, tt, pl2)\n",
    "cbar = plt.colorbar()\n",
    "plt.set_cmap('bwr') \n",
    "cbar.set_label('Percent Uncertainty in LHF (W/m^2)', labelpad = 2.5)\n",
    "\n",
    "\n",
    "# range of xx should be 0:11 and range of tt should be 20:40\n",
    "plt.contourf(xx,tt, pl2, p_levels, shading='auto' )\n",
    "plt.show()\n",
    "plt.savefig('LHF Percentage Uncertainty high wind.png')"
   ]
  },
  {
   "cell_type": "code",
   "execution_count": 63,
   "metadata": {},
   "outputs": [],
   "source": [
    "Tdiff_low = -5.0\n",
    "Tdiff_high = 6.0\n",
    "Tdiff_step = 0.5\n",
    "\n",
    "wind_low = 0\n",
    "wind_high = 11\n",
    "wind_step = 1\n",
    "\n",
    "num_Tdiff = int((Tdiff_high - Tdiff_low) // Tdiff_step)\n",
    "num_wind = int((wind_high - wind_low) // wind_step)\n",
    "\n",
    "ss2,sl2,ps2, pl2, tt = np.zeros((num_Tdiff,num_wind))*np.nan,np.zeros((num_Tdiff,num_wind))*np.nan,np.zeros((num_Tdiff,num_wind))*np.nan,np.zeros((num_Tdiff,num_wind))*np.nan,[]\n",
    "for iair,Tair_offset in enumerate(np.arange(Tdiff_low,Tdiff_high,Tdiff_step)):\n",
    "    tt.append(Tair_offset)\n",
    "    ss,sl,xx,ps,pl=[],[],[],[],[]\n",
    "    for wind in range(wind_low, wind_high, wind_step):\n",
    "        xx.append(wind)\n",
    "        #variable\tvalue\tunits\tnotes\n",
    "\n",
    "        #wind = 7.00000          #m/s    average wind speed over ocean\n",
    "        Tair = Tsea-Tair_offset        #K      average surface air temperature over ocean\n",
    "        Tsea_degC = Tsea - 273.15\n",
    "        Tair_degC = Tair - 273.15\n",
    "\n",
    "        #calculate Qsea and Qair from Tsea, pres, Tair, rel_hum from coare\n",
    "        Lv = (2.501-0.00237*Tsea)*1e6 #J/kg   latent heat of vaporization  SB had 2500000 CG changed to coare3 def\n",
    "        sat_vap_pres =  6.1121*np.exp(17.502*Tair_degC/(Tair_degC+240.97))*(1.0007+3.46e-6*pres) #from coare3\n",
    "        Qsea = sea_humidity_method_qsee(Tsea_degC,pres)/1000\n",
    "        Qair = air_humidity_method_qsat26air(Tair_degC,pres,rel_hum*100)/1000\n",
    "        air_density = pres*100./(Rgas*(Tair)*(1.+0.61*Qair))\n",
    "\n",
    "        dpres_computed = (pres+dpres)*100 / (287*Tair) - air_density\n",
    "        #print('Qair error:', dQair_computed*1000)\n",
    "\n",
    "        #compute Qsea errors from coare3 using uncertainty in SST & pres\n",
    "        Qsea0 = sea_humidity_method_qsee(Tsea_degC,pres)\n",
    "        Qsea1 = sea_humidity_method_qsee(Tsea_degC+dTsea,pres)\n",
    "        Qsea2 = sea_humidity_method_qsee(Tsea_degC-dTsea,pres)\n",
    "        Qsea_dTsea = (np.maximum(np.abs(Qsea0-Qsea2),np.abs(Qsea0-Qsea1)))\n",
    "        Qsea0 = sea_humidity_method_qsee(Tsea_degC,pres)\n",
    "        Qsea1 = sea_humidity_method_qsee(Tsea_degC,pres+dpres)\n",
    "        Qsea2 = sea_humidity_method_qsee(Tsea_degC,pres-dpres)\n",
    "        Qsea_dpres = (np.maximum(np.abs(Qsea0-Qsea2),np.abs(Qsea0-Qsea1)))\n",
    "        dQsea_computed = np.sqrt(Qsea_dTsea**2+Qsea_dpres**2)/1000\n",
    "        #print('Qsea and Qsea uncertainty:',Qsea*1000,dQsea_computed*1000)\n",
    "\n",
    "        # calculate Ch and Ce using coare\n",
    "        inputs = {'u':wind,'t':Tair_degC,'Q':Qair*1000,'Qs':Qsea*1000,'P':pres,'ts':Tsea_degC,'lat':35.}\n",
    "        res = coare3(inputs)\n",
    "        Ch = res['Ch']\n",
    "        Ce = res['Ce']\n",
    "        #print(Ch,Ce)\n",
    "        dLH_over_dqs =   air_density * Ce * wind * Lv               * dQsea_computed\n",
    "        dLH_over_dqair = air_density * Ce * wind * Lv               * dQair_computed\n",
    "        dLH_over_dwind = air_density * Ce *        Lv * (Qsea-Qair) * dwind\n",
    "        dLH_over_dpres =               Ce * wind * Lv * (Qsea-Qair) * dpres_computed\n",
    "\n",
    "        # modified to be the total error per g/kg air/sea moisture difference\n",
    "        total_error = np.sqrt(dLH_over_dqs**2+\n",
    "                              dLH_over_dqair**2+\n",
    "                              dLH_over_dwind**2+\n",
    "                              dLH_over_dpres**2) \n",
    "        \n",
    "        signal = air_density * Lv * Ce * (Qsea-Qair) * wind \n",
    "\n",
    "        percent_error_lhf = abs( total_error / signal *100 )\n",
    "\n",
    "        # print('dLH_over_dqs',dLH_over_dqs)\n",
    "        # print('dLH_over_dqair',dLH_over_dqair)\n",
    "        # print('dLH_over_dwind',dLH_over_dwind)\n",
    "        # print('dLH_over_dpres',dLH_over_dpres)\n",
    "        #print('Latent Heat Flux total_error',total_error)\n",
    "        #print('signal',signal)\n",
    "        #print('percent error',percent_error)\n",
    "\n",
    "        # modified to be the total error per g/kg air/sea moisture difference\n",
    "        latent_heat_flux_total_error = total_error \n",
    "\n",
    "        dSH_over_dTsea = air_density * Cp * Ch * wind               * dTsea\n",
    "        dSH_over_dTair = air_density * Cp * Ch * wind               * dTair\n",
    "        dSH_over_dwind = air_density * Cp * Ch        * (Tsea-Tair) * dwind\n",
    "        dSH_over_dpres =               Cp * Ch * wind * (Tsea-Tair) * dpres_computed\n",
    "        \n",
    "        total_error = np.sqrt(dSH_over_dTsea**2+\n",
    "                              dSH_over_dTair**2+\n",
    "                              dSH_over_dwind**2+\n",
    "                              dSH_over_dpres**2)\n",
    "\n",
    "        signal = air_density * Cp * Ch * (Tsea-Tair) * wind\n",
    "\n",
    "        percent_error_shf = abs( total_error / signal *100 )\n",
    "\n",
    "        #print('dSH_over_dTsea',dSH_over_dTsea)\n",
    "        #print('dSH_over_dTair',dSH_over_dTair)\n",
    "        #print('dSH_over_dwind',dSH_over_dwind)\n",
    "        #print('dSH_over_dpres',dSH_over_dpres)Fss\n",
    "        #print('Sensible Heat Flux total_error',total_error)\n",
    "        #print('signal',signal)\n",
    "        #print('percent error',percent_error)\n",
    "\n",
    "        sensible_heat_flux_total_error = total_error\n",
    "\n",
    "        ss.append(sensible_heat_flux_total_error.data[0])\n",
    "        sl.append(latent_heat_flux_total_error.data[0])\n",
    "        ps.append(percent_error_shf.data[0])\n",
    "        pl.append(percent_error_lhf.data[0])\n",
    "\n",
    "    ss2[iair,:]=ss\n",
    "    sl2[iair,:]=sl\n",
    "    ps2[iair,:]=ps\n",
    "    pl2[iair,:]=pl\n",
    "\n",
    "save_errors['shf_rand']=xr.DataArray(ss2,dims=('deltaT','wind'),coords={'deltaT':tt,'wind':xx})\n",
    "save_errors['lhf_rand']=xr.DataArray(sl2,dims=('deltaT','wind'),coords={'deltaT':tt,'wind':xx})\n",
    "save_errors['shf_perror']=xr.DataArray(ss2,dims=('deltaT','wind'),coords={'deltaT':tt,'wind':xx})\n",
    "save_errors['lhf_perror']=xr.DataArray(sl2,dims=('deltaT','wind'),coords={'deltaT':tt,'wind':xx})"
   ]
  },
  {
   "cell_type": "code",
   "execution_count": 69,
   "metadata": {},
   "outputs": [
    {
     "name": "stderr",
     "output_type": "stream",
     "text": [
      "<ipython-input-69-e1ce549ba31e>:12: MatplotlibDeprecationWarning: shading='flat' when X and Y have the same dimensions as C is deprecated since 3.3.  Either specify the corners of the quadrilaterals with X and Y, or pass shading='auto', 'nearest' or 'gouraud', or set rcParams['pcolor.shading'].  This will become an error two minor releases later.\n",
      "  plt.pcolormesh(xx, tt, sl2)\n"
     ]
    },
    {
     "ename": "TypeError",
     "evalue": "float() argument must be a string or a number, not 'enumerate'",
     "output_type": "error",
     "traceback": [
      "\u001b[1;31m---------------------------------------------------------------------------\u001b[0m",
      "\u001b[1;31mTypeError\u001b[0m                                 Traceback (most recent call last)",
      "\u001b[1;32m<ipython-input-69-e1ce549ba31e>\u001b[0m in \u001b[0;36m<module>\u001b[1;34m\u001b[0m\n\u001b[0;32m     16\u001b[0m \u001b[1;33m\u001b[0m\u001b[0m\n\u001b[0;32m     17\u001b[0m \u001b[1;31m#plt.contourf(xx,tt, sl2, levels = r_levels, shading='auto' )\u001b[0m\u001b[1;33m\u001b[0m\u001b[1;33m\u001b[0m\u001b[1;33m\u001b[0m\u001b[0m\n\u001b[1;32m---> 18\u001b[1;33m \u001b[0mplt\u001b[0m\u001b[1;33m.\u001b[0m\u001b[0mcontourf\u001b[0m\u001b[1;33m(\u001b[0m\u001b[0mxx\u001b[0m\u001b[1;33m,\u001b[0m\u001b[0mtt\u001b[0m\u001b[1;33m,\u001b[0m \u001b[0msl2\u001b[0m\u001b[1;33m,\u001b[0m \u001b[0mr_levels\u001b[0m\u001b[1;33m)\u001b[0m\u001b[1;33m\u001b[0m\u001b[1;33m\u001b[0m\u001b[0m\n\u001b[0m\u001b[0;32m     19\u001b[0m \u001b[0mplt\u001b[0m\u001b[1;33m.\u001b[0m\u001b[0mshow\u001b[0m\u001b[1;33m(\u001b[0m\u001b[1;33m)\u001b[0m\u001b[1;33m\u001b[0m\u001b[1;33m\u001b[0m\u001b[0m\n\u001b[0;32m     20\u001b[0m \u001b[0mplt\u001b[0m\u001b[1;33m.\u001b[0m\u001b[0msavefig\u001b[0m\u001b[1;33m(\u001b[0m\u001b[1;34m'LHF Uncertainty low wind.png'\u001b[0m\u001b[1;33m)\u001b[0m\u001b[1;33m\u001b[0m\u001b[1;33m\u001b[0m\u001b[0m\n",
      "\u001b[1;32m~\\miniconda3\\lib\\site-packages\\matplotlib\\pyplot.py\u001b[0m in \u001b[0;36mcontourf\u001b[1;34m(data, *args, **kwargs)\u001b[0m\n\u001b[0;32m   2575\u001b[0m \u001b[1;33m@\u001b[0m\u001b[0m_copy_docstring_and_deprecators\u001b[0m\u001b[1;33m(\u001b[0m\u001b[0mAxes\u001b[0m\u001b[1;33m.\u001b[0m\u001b[0mcontourf\u001b[0m\u001b[1;33m)\u001b[0m\u001b[1;33m\u001b[0m\u001b[1;33m\u001b[0m\u001b[0m\n\u001b[0;32m   2576\u001b[0m \u001b[1;32mdef\u001b[0m \u001b[0mcontourf\u001b[0m\u001b[1;33m(\u001b[0m\u001b[1;33m*\u001b[0m\u001b[0margs\u001b[0m\u001b[1;33m,\u001b[0m \u001b[0mdata\u001b[0m\u001b[1;33m=\u001b[0m\u001b[1;32mNone\u001b[0m\u001b[1;33m,\u001b[0m \u001b[1;33m**\u001b[0m\u001b[0mkwargs\u001b[0m\u001b[1;33m)\u001b[0m\u001b[1;33m:\u001b[0m\u001b[1;33m\u001b[0m\u001b[1;33m\u001b[0m\u001b[0m\n\u001b[1;32m-> 2577\u001b[1;33m     __ret = gca().contourf(\n\u001b[0m\u001b[0;32m   2578\u001b[0m         \u001b[1;33m*\u001b[0m\u001b[0margs\u001b[0m\u001b[1;33m,\u001b[0m \u001b[1;33m**\u001b[0m\u001b[1;33m(\u001b[0m\u001b[1;33m{\u001b[0m\u001b[1;34m\"data\"\u001b[0m\u001b[1;33m:\u001b[0m \u001b[0mdata\u001b[0m\u001b[1;33m}\u001b[0m \u001b[1;32mif\u001b[0m \u001b[0mdata\u001b[0m \u001b[1;32mis\u001b[0m \u001b[1;32mnot\u001b[0m \u001b[1;32mNone\u001b[0m \u001b[1;32melse\u001b[0m \u001b[1;33m{\u001b[0m\u001b[1;33m}\u001b[0m\u001b[1;33m)\u001b[0m\u001b[1;33m,\u001b[0m\u001b[1;33m\u001b[0m\u001b[1;33m\u001b[0m\u001b[0m\n\u001b[0;32m   2579\u001b[0m         **kwargs)\n",
      "\u001b[1;32m~\\miniconda3\\lib\\site-packages\\matplotlib\\__init__.py\u001b[0m in \u001b[0;36minner\u001b[1;34m(ax, data, *args, **kwargs)\u001b[0m\n\u001b[0;32m   1445\u001b[0m     \u001b[1;32mdef\u001b[0m \u001b[0minner\u001b[0m\u001b[1;33m(\u001b[0m\u001b[0max\u001b[0m\u001b[1;33m,\u001b[0m \u001b[1;33m*\u001b[0m\u001b[0margs\u001b[0m\u001b[1;33m,\u001b[0m \u001b[0mdata\u001b[0m\u001b[1;33m=\u001b[0m\u001b[1;32mNone\u001b[0m\u001b[1;33m,\u001b[0m \u001b[1;33m**\u001b[0m\u001b[0mkwargs\u001b[0m\u001b[1;33m)\u001b[0m\u001b[1;33m:\u001b[0m\u001b[1;33m\u001b[0m\u001b[1;33m\u001b[0m\u001b[0m\n\u001b[0;32m   1446\u001b[0m         \u001b[1;32mif\u001b[0m \u001b[0mdata\u001b[0m \u001b[1;32mis\u001b[0m \u001b[1;32mNone\u001b[0m\u001b[1;33m:\u001b[0m\u001b[1;33m\u001b[0m\u001b[1;33m\u001b[0m\u001b[0m\n\u001b[1;32m-> 1447\u001b[1;33m             \u001b[1;32mreturn\u001b[0m \u001b[0mfunc\u001b[0m\u001b[1;33m(\u001b[0m\u001b[0max\u001b[0m\u001b[1;33m,\u001b[0m \u001b[1;33m*\u001b[0m\u001b[0mmap\u001b[0m\u001b[1;33m(\u001b[0m\u001b[0msanitize_sequence\u001b[0m\u001b[1;33m,\u001b[0m \u001b[0margs\u001b[0m\u001b[1;33m)\u001b[0m\u001b[1;33m,\u001b[0m \u001b[1;33m**\u001b[0m\u001b[0mkwargs\u001b[0m\u001b[1;33m)\u001b[0m\u001b[1;33m\u001b[0m\u001b[1;33m\u001b[0m\u001b[0m\n\u001b[0m\u001b[0;32m   1448\u001b[0m \u001b[1;33m\u001b[0m\u001b[0m\n\u001b[0;32m   1449\u001b[0m         \u001b[0mbound\u001b[0m \u001b[1;33m=\u001b[0m \u001b[0mnew_sig\u001b[0m\u001b[1;33m.\u001b[0m\u001b[0mbind\u001b[0m\u001b[1;33m(\u001b[0m\u001b[0max\u001b[0m\u001b[1;33m,\u001b[0m \u001b[1;33m*\u001b[0m\u001b[0margs\u001b[0m\u001b[1;33m,\u001b[0m \u001b[1;33m**\u001b[0m\u001b[0mkwargs\u001b[0m\u001b[1;33m)\u001b[0m\u001b[1;33m\u001b[0m\u001b[1;33m\u001b[0m\u001b[0m\n",
      "\u001b[1;32m~\\miniconda3\\lib\\site-packages\\matplotlib\\axes\\_axes.py\u001b[0m in \u001b[0;36mcontourf\u001b[1;34m(self, *args, **kwargs)\u001b[0m\n\u001b[0;32m   6333\u001b[0m     \u001b[1;32mdef\u001b[0m \u001b[0mcontourf\u001b[0m\u001b[1;33m(\u001b[0m\u001b[0mself\u001b[0m\u001b[1;33m,\u001b[0m \u001b[1;33m*\u001b[0m\u001b[0margs\u001b[0m\u001b[1;33m,\u001b[0m \u001b[1;33m**\u001b[0m\u001b[0mkwargs\u001b[0m\u001b[1;33m)\u001b[0m\u001b[1;33m:\u001b[0m\u001b[1;33m\u001b[0m\u001b[1;33m\u001b[0m\u001b[0m\n\u001b[0;32m   6334\u001b[0m         \u001b[0mkwargs\u001b[0m\u001b[1;33m[\u001b[0m\u001b[1;34m'filled'\u001b[0m\u001b[1;33m]\u001b[0m \u001b[1;33m=\u001b[0m \u001b[1;32mTrue\u001b[0m\u001b[1;33m\u001b[0m\u001b[1;33m\u001b[0m\u001b[0m\n\u001b[1;32m-> 6335\u001b[1;33m         \u001b[0mcontours\u001b[0m \u001b[1;33m=\u001b[0m \u001b[0mmcontour\u001b[0m\u001b[1;33m.\u001b[0m\u001b[0mQuadContourSet\u001b[0m\u001b[1;33m(\u001b[0m\u001b[0mself\u001b[0m\u001b[1;33m,\u001b[0m \u001b[1;33m*\u001b[0m\u001b[0margs\u001b[0m\u001b[1;33m,\u001b[0m \u001b[1;33m**\u001b[0m\u001b[0mkwargs\u001b[0m\u001b[1;33m)\u001b[0m\u001b[1;33m\u001b[0m\u001b[1;33m\u001b[0m\u001b[0m\n\u001b[0m\u001b[0;32m   6336\u001b[0m         \u001b[0mself\u001b[0m\u001b[1;33m.\u001b[0m\u001b[0m_request_autoscale_view\u001b[0m\u001b[1;33m(\u001b[0m\u001b[1;33m)\u001b[0m\u001b[1;33m\u001b[0m\u001b[1;33m\u001b[0m\u001b[0m\n\u001b[0;32m   6337\u001b[0m         \u001b[1;32mreturn\u001b[0m \u001b[0mcontours\u001b[0m\u001b[1;33m\u001b[0m\u001b[1;33m\u001b[0m\u001b[0m\n",
      "\u001b[1;32m~\\miniconda3\\lib\\site-packages\\matplotlib\\contour.py\u001b[0m in \u001b[0;36m__init__\u001b[1;34m(self, ax, levels, filled, linewidths, linestyles, hatches, alpha, origin, extent, cmap, colors, norm, vmin, vmax, extend, antialiased, nchunk, locator, transform, *args, **kwargs)\u001b[0m\n\u001b[0;32m    814\u001b[0m         \u001b[0mself\u001b[0m\u001b[1;33m.\u001b[0m\u001b[0m_transform\u001b[0m \u001b[1;33m=\u001b[0m \u001b[0mtransform\u001b[0m\u001b[1;33m\u001b[0m\u001b[1;33m\u001b[0m\u001b[0m\n\u001b[0;32m    815\u001b[0m \u001b[1;33m\u001b[0m\u001b[0m\n\u001b[1;32m--> 816\u001b[1;33m         \u001b[0mkwargs\u001b[0m \u001b[1;33m=\u001b[0m \u001b[0mself\u001b[0m\u001b[1;33m.\u001b[0m\u001b[0m_process_args\u001b[0m\u001b[1;33m(\u001b[0m\u001b[1;33m*\u001b[0m\u001b[0margs\u001b[0m\u001b[1;33m,\u001b[0m \u001b[1;33m**\u001b[0m\u001b[0mkwargs\u001b[0m\u001b[1;33m)\u001b[0m\u001b[1;33m\u001b[0m\u001b[1;33m\u001b[0m\u001b[0m\n\u001b[0m\u001b[0;32m    817\u001b[0m         \u001b[0mself\u001b[0m\u001b[1;33m.\u001b[0m\u001b[0m_process_levels\u001b[0m\u001b[1;33m(\u001b[0m\u001b[1;33m)\u001b[0m\u001b[1;33m\u001b[0m\u001b[1;33m\u001b[0m\u001b[0m\n\u001b[0;32m    818\u001b[0m \u001b[1;33m\u001b[0m\u001b[0m\n",
      "\u001b[1;32m~\\miniconda3\\lib\\site-packages\\matplotlib\\contour.py\u001b[0m in \u001b[0;36m_process_args\u001b[1;34m(self, corner_mask, *args, **kwargs)\u001b[0m\n\u001b[0;32m   1428\u001b[0m             \u001b[0mself\u001b[0m\u001b[1;33m.\u001b[0m\u001b[0m_corner_mask\u001b[0m \u001b[1;33m=\u001b[0m \u001b[0mcorner_mask\u001b[0m\u001b[1;33m\u001b[0m\u001b[1;33m\u001b[0m\u001b[0m\n\u001b[0;32m   1429\u001b[0m \u001b[1;33m\u001b[0m\u001b[0m\n\u001b[1;32m-> 1430\u001b[1;33m             \u001b[0mx\u001b[0m\u001b[1;33m,\u001b[0m \u001b[0my\u001b[0m\u001b[1;33m,\u001b[0m \u001b[0mz\u001b[0m \u001b[1;33m=\u001b[0m \u001b[0mself\u001b[0m\u001b[1;33m.\u001b[0m\u001b[0m_contour_args\u001b[0m\u001b[1;33m(\u001b[0m\u001b[0margs\u001b[0m\u001b[1;33m,\u001b[0m \u001b[0mkwargs\u001b[0m\u001b[1;33m)\u001b[0m\u001b[1;33m\u001b[0m\u001b[1;33m\u001b[0m\u001b[0m\n\u001b[0m\u001b[0;32m   1431\u001b[0m \u001b[1;33m\u001b[0m\u001b[0m\n\u001b[0;32m   1432\u001b[0m             \u001b[0m_mask\u001b[0m \u001b[1;33m=\u001b[0m \u001b[0mma\u001b[0m\u001b[1;33m.\u001b[0m\u001b[0mgetmask\u001b[0m\u001b[1;33m(\u001b[0m\u001b[0mz\u001b[0m\u001b[1;33m)\u001b[0m\u001b[1;33m\u001b[0m\u001b[1;33m\u001b[0m\u001b[0m\n",
      "\u001b[1;32m~\\miniconda3\\lib\\site-packages\\matplotlib\\contour.py\u001b[0m in \u001b[0;36m_contour_args\u001b[1;34m(self, args, kwargs)\u001b[0m\n\u001b[0;32m   1499\u001b[0m                                  'masked')\n\u001b[0;32m   1500\u001b[0m             \u001b[0mself\u001b[0m\u001b[1;33m.\u001b[0m\u001b[0mzmin\u001b[0m \u001b[1;33m=\u001b[0m \u001b[0mfloat\u001b[0m\u001b[1;33m(\u001b[0m\u001b[0mz\u001b[0m\u001b[1;33m.\u001b[0m\u001b[0mmin\u001b[0m\u001b[1;33m(\u001b[0m\u001b[1;33m)\u001b[0m\u001b[1;33m)\u001b[0m\u001b[1;33m\u001b[0m\u001b[1;33m\u001b[0m\u001b[0m\n\u001b[1;32m-> 1501\u001b[1;33m         \u001b[0mself\u001b[0m\u001b[1;33m.\u001b[0m\u001b[0m_process_contour_level_args\u001b[0m\u001b[1;33m(\u001b[0m\u001b[0margs\u001b[0m\u001b[1;33m)\u001b[0m\u001b[1;33m\u001b[0m\u001b[1;33m\u001b[0m\u001b[0m\n\u001b[0m\u001b[0;32m   1502\u001b[0m         \u001b[1;32mreturn\u001b[0m \u001b[1;33m(\u001b[0m\u001b[0mx\u001b[0m\u001b[1;33m,\u001b[0m \u001b[0my\u001b[0m\u001b[1;33m,\u001b[0m \u001b[0mz\u001b[0m\u001b[1;33m)\u001b[0m\u001b[1;33m\u001b[0m\u001b[1;33m\u001b[0m\u001b[0m\n\u001b[0;32m   1503\u001b[0m \u001b[1;33m\u001b[0m\u001b[0m\n",
      "\u001b[1;32m~\\miniconda3\\lib\\site-packages\\matplotlib\\contour.py\u001b[0m in \u001b[0;36m_process_contour_level_args\u001b[1;34m(self, args)\u001b[0m\n\u001b[0;32m   1156\u001b[0m             \u001b[0mself\u001b[0m\u001b[1;33m.\u001b[0m\u001b[0mlevels\u001b[0m \u001b[1;33m=\u001b[0m \u001b[0mself\u001b[0m\u001b[1;33m.\u001b[0m\u001b[0m_autolev\u001b[0m\u001b[1;33m(\u001b[0m\u001b[0mlevels_arg\u001b[0m\u001b[1;33m)\u001b[0m\u001b[1;33m\u001b[0m\u001b[1;33m\u001b[0m\u001b[0m\n\u001b[0;32m   1157\u001b[0m         \u001b[1;32melse\u001b[0m\u001b[1;33m:\u001b[0m\u001b[1;33m\u001b[0m\u001b[1;33m\u001b[0m\u001b[0m\n\u001b[1;32m-> 1158\u001b[1;33m             \u001b[0mself\u001b[0m\u001b[1;33m.\u001b[0m\u001b[0mlevels\u001b[0m \u001b[1;33m=\u001b[0m \u001b[0mnp\u001b[0m\u001b[1;33m.\u001b[0m\u001b[0masarray\u001b[0m\u001b[1;33m(\u001b[0m\u001b[0mlevels_arg\u001b[0m\u001b[1;33m)\u001b[0m\u001b[1;33m.\u001b[0m\u001b[0mastype\u001b[0m\u001b[1;33m(\u001b[0m\u001b[0mnp\u001b[0m\u001b[1;33m.\u001b[0m\u001b[0mfloat64\u001b[0m\u001b[1;33m)\u001b[0m\u001b[1;33m\u001b[0m\u001b[1;33m\u001b[0m\u001b[0m\n\u001b[0m\u001b[0;32m   1159\u001b[0m \u001b[1;33m\u001b[0m\u001b[0m\n\u001b[0;32m   1160\u001b[0m         \u001b[1;32mif\u001b[0m \u001b[1;32mnot\u001b[0m \u001b[0mself\u001b[0m\u001b[1;33m.\u001b[0m\u001b[0mfilled\u001b[0m\u001b[1;33m:\u001b[0m\u001b[1;33m\u001b[0m\u001b[1;33m\u001b[0m\u001b[0m\n",
      "\u001b[1;31mTypeError\u001b[0m: float() argument must be a string or a number, not 'enumerate'"
     ]
    },
    {
     "data": {
      "image/png": "[encoded data removed]",
      "text/plain": [
       "<Figure size 576x432 with 2 Axes>"
      ]
     },
     "metadata": {
      "needs_background": "light"
     },
     "output_type": "display_data"
    }
   ],
   "source": [
    "fig = plt.figure(num=None, figsize=(8,6))\n",
    "left, bottom, width, height = 0.1, 0.1, 0.8, 0.8\n",
    "ax = fig.add_axes([left, bottom, width, height]) \n",
    "ax.set_ylabel(\"Air/Sea Temperature Difference (C)\")\n",
    "ax.set_xlabel(\"Wind Speed (m/s)\")\n",
    "\n",
    "#x,y = np.meshgrid(np.arange(31), np.arange(51))\n",
    "#r_levels = [0, 5, 10, 15, 20, 30, 40, 50, 75, 100, 150]\n",
    "r_levels = enumerate(np.arange(0.0,20.0,2.5))\n",
    "p_levels = [0, 5, 10, 15, 20, 30, 40, 50, 75, 100, 150]\n",
    "\n",
    "plt.pcolormesh(xx, tt, sl2)\n",
    "cbar = plt.colorbar()  # I am worried that this is not using the correct levels\n",
    "#plt.set_cmap('bwr') \n",
    "cbar.set_label('Uncertainty in LHF (W/m^2)', labelpad = 2.5)\n",
    "\n",
    "#plt.contourf(xx,tt, sl2, levels = r_levels, shading='auto' ) \n",
    "plt.contourf(xx,tt, sl2, levels = r_levels) \n",
    "plt.show()\n",
    "plt.savefig('LHF Uncertainty low wind.png')\n",
    "plt.close()"
   ]
  },
  {
   "cell_type": "code",
   "execution_count": 47,
   "metadata": {},
   "outputs": [
    {
     "name": "stderr",
     "output_type": "stream",
     "text": [
      "<ipython-input-47-9b33404786da>:11: MatplotlibDeprecationWarning: shading='flat' when X and Y have the same dimensions as C is deprecated since 3.3.  Either specify the corners of the quadrilaterals with X and Y, or pass shading='auto', 'nearest' or 'gouraud', or set rcParams['pcolor.shading'].  This will become an error two minor releases later.\n",
      "  plt.pcolormesh(xx, tt, ss2)\n",
      "<ipython-input-47-9b33404786da>:18: UserWarning: The following kwargs were not used by contour: 'shading'\n",
      "  plt.contourf(xx,tt, ss2, r_levels, shading='auto' )\n"
     ]
    },
    {
     "data": {
      "image/png": "[encoded data removed]",
      "text/plain": [
       "<Figure size 576x432 with 2 Axes>"
      ]
     },
     "metadata": {
      "needs_background": "light"
     },
     "output_type": "display_data"
    }
   ],
   "source": [
    "fig = plt.figure(num=None, figsize=(8,6))\n",
    "left, bottom, width, height = 0.1, 0.1, 0.8, 0.8\n",
    "ax = fig.add_axes([left, bottom, width, height]) \n",
    "ax.set_ylabel(\"Air/Sea Temperature Difference (C)\")\n",
    "ax.set_xlabel(\"Wind Speed (m/s)\")\n",
    "\n",
    "#x,y = np.meshgrid(np.arange(31), np.arange(51))\n",
    "r_levels = [0, 5, 10, 15, 20, 30, 40, 50, 75, 100, 150]\n",
    "p_levels = [0, 5, 10, 15, 20, 30, 40, 50, 75, 100, 150]\n",
    "\n",
    "plt.pcolormesh(xx, tt, ss2)\n",
    "cbar = plt.colorbar()  # I am worried that this is not using the correct levels\n",
    "#plt.set_cmap('bwr') \n",
    "cbar.set_label('Uncertainty in SHF (W/m^2)', labelpad = 2.5)\n",
    "\n",
    "# range of xx should be 0:11 and range of tt should be 20:40\n",
    "\n",
    "plt.contourf(xx,tt, ss2, r_levels, shading='auto' ) \n",
    "plt.show()\n",
    "plt.savefig('SHF Uncertainty low wind.png')\n",
    "plt.close()"
   ]
  },
  {
   "cell_type": "code",
   "execution_count": 62,
   "metadata": {},
   "outputs": [
    {
     "name": "stderr",
     "output_type": "stream",
     "text": [
      "<ipython-input-62-cb19e93960cc>:11: MatplotlibDeprecationWarning: shading='flat' when X and Y have the same dimensions as C is deprecated since 3.3.  Either specify the corners of the quadrilaterals with X and Y, or pass shading='auto', 'nearest' or 'gouraud', or set rcParams['pcolor.shading'].  This will become an error two minor releases later.\n",
      "  plt.pcolormesh(xx, tt, pl2)\n",
      "<ipython-input-62-cb19e93960cc>:17: UserWarning: The following kwargs were not used by contour: 'shading'\n",
      "  plt.contourf(xx,tt, pl2, p_levels, shading='auto' )\n"
     ]
    },
    {
     "data": {
      "image/png": "[encoded data removed]",
      "text/plain": [
       "<Figure size 576x432 with 2 Axes>"
      ]
     },
     "metadata": {
      "needs_background": "light"
     },
     "output_type": "display_data"
    }
   ],
   "source": [
    "fig = plt.figure(num=None, figsize=(8,6))\n",
    "left, bottom, width, height = 0.1, 0.1, 0.8, 0.8\n",
    "ax = fig.add_axes([left, bottom, width, height]) \n",
    "ax.set_ylabel(\"Air/Sea Temperature Difference (C)\")\n",
    "ax.set_xlabel(\"Wind Speed (m/s)\")\n",
    "\n",
    "#x,y = np.meshgrid(np.arange(31), np.arange(51))\n",
    "r_levels = [0, 5, 10, 15, 20, 30, 40, 50, 75, 100, 150]\n",
    "p_levels = [0, 5, 10, 15, 20, 30, 40, 50, 75, 100, 150]\n",
    "\n",
    "plt.pcolormesh(xx, tt, pl2)\n",
    "cbar = plt.colorbar()\n",
    "#plt.set_cmap('bwr') \n",
    "cbar.set_label('Perentage Uncertainty in LHF (%)', labelpad = 2.5)\n",
    "\n",
    "#trim to <=10 m/s and 5 to 15 degrees\n",
    "plt.contourf(xx,tt, pl2, p_levels, shading='auto' ) \n",
    "plt.show()\n",
    "plt.savefig('LHF Uncertainty.png')\n",
    "plt.close()"
   ]
  },
  {
   "cell_type": "code",
   "execution_count": 142,
   "metadata": {},
   "outputs": [
    {
     "data": {
      "image/png": "[encoded data removed]",
      "text/plain": [
       "<Figure size 432x288 with 1 Axes>"
      ]
     },
     "metadata": {
      "needs_background": "light"
     },
     "output_type": "display_data"
    }
   ],
   "source": [
    "for i in range(30):\n",
    "    save_errors.lhf_rand.isel(deltaT=i).plot()"
   ]
  },
  {
   "cell_type": "code",
   "execution_count": null,
   "metadata": {},
   "outputs": [],
   "source": [
    "for i in range(30):\n",
    "    save_errors.shf_rand.isel(deltaT=i).plot()"
   ]
  },
  {
   "cell_type": "code",
   "execution_count": null,
   "metadata": {},
   "outputs": [],
   "source": []
  }
 ],
 "metadata": {
  "kernelspec": {
   "display_name": "Python 3",
   "language": "python",
   "name": "python3"
  },
  "language_info": {
   "codemirror_mode": {
    "name": "ipython",
    "version": 3
   },
   "file_extension": ".py",
   "mimetype": "text/x-python",
   "name": "python",
   "nbconvert_exporter": "python",
   "pygments_lexer": "ipython3",
   "version": "3.8.3"
  }
 },
 "nbformat": 4,
 "nbformat_minor": 2
}
