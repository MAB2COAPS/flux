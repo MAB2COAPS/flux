{
 "cells": [
  {
   "cell_type": "code",
   "execution_count": null,
   "metadata": {},
   "outputs": [],
   "source": [
    "import matplotlib.pyplot as plt\n",
    "from matplotlib.patches import Ellipse\n",
    "\n",
    "w=[62,42,22,12]\n",
    "l=[35,24,14,7]\n",
    "ch=['7 GHz','10 GHz','19 GHz','37 GHz']\n",
    "co=['r','b','g','c']\n",
    "plt.figure(figsize=(5,4))\n",
    "ax = plt.gca()\n",
    "for i in range(len(w)):\n",
    "    ellipse = Ellipse(xy=(0,0), width=l[i], height=w[i], \n",
    "                        edgecolor=co[i], fc='none', lw=2)\n",
    "    ax.add_patch(ellipse)\n",
    "    ax.text(20,28-i*4,ch[i],color=co[i])\n",
    "ax.text(-5.5,-36,'AMSR2')\n",
    "    \n",
    "\n",
    "w=[25,17,13,12]\n",
    "l=[22,14,12,10]\n",
    "for i in range(len(w)):\n",
    "    ellipse = Ellipse(xy=(30,0), width=l[i], height=w[i], \n",
    "                        edgecolor=co[i], fc='none', lw=2)\n",
    "    ax.add_patch(ellipse)\n",
    "ax.text(23,-18,'FluxSaT')\n",
    "\n",
    "ax.set_xlim([-20,60])\n",
    "ax.set_ylim([-40,40])\n",
    "ax.set_xlabel('across scan (km)')\n",
    "ax.set_ylabel('along scan (km)')\n",
    "plt.savefig('c:/Users/gentemann/Google Drive/f_drive/docs/proposals/nasa/EVM/footprint.png')"
   ]
  },
  {
   "cell_type": "code",
   "execution_count": null,
   "metadata": {},
   "outputs": [],
   "source": []
  }
 ],
 "metadata": {
  "kernelspec": {
   "display_name": "Python 3",
   "language": "python",
   "name": "python3"
  },
  "language_info": {
   "codemirror_mode": {
    "name": "ipython",
    "version": 3
   },
   "file_extension": ".py",
   "mimetype": "text/x-python",
   "name": "python",
   "nbconvert_exporter": "python",
   "pygments_lexer": "ipython3",
   "version": "3.8.5"
  }
 },
 "nbformat": 4,
 "nbformat_minor": 4
}
